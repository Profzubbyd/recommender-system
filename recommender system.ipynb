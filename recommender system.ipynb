{
  "nbformat": 4,
  "nbformat_minor": 0,
  "metadata": {
    "colab": {
      "provenance": []
    },
    "kernelspec": {
      "name": "python3",
      "display_name": "Python 3"
    },
    "language_info": {
      "name": "python"
    }
  },
  "cells": [
    {
      "cell_type": "code",
      "source": [
        "! pip install lazypredict"
      ],
      "metadata": {
        "colab": {
          "base_uri": "https://localhost:8080/"
        },
        "id": "NFJ1m4qh00VS",
        "outputId": "1f04c536-8e6b-47e0-caa1-9a453934cab6"
      },
      "execution_count": null,
      "outputs": [
        {
          "output_type": "stream",
          "name": "stdout",
          "text": [
            "Looking in indexes: https://pypi.org/simple, https://us-python.pkg.dev/colab-wheels/public/simple/\n",
            "Collecting lazypredict\n",
            "  Downloading lazypredict-0.2.12-py2.py3-none-any.whl (12 kB)\n",
            "Requirement already satisfied: scikit-learn in /usr/local/lib/python3.7/dist-packages (from lazypredict) (1.0.2)\n",
            "Requirement already satisfied: pandas in /usr/local/lib/python3.7/dist-packages (from lazypredict) (1.3.5)\n",
            "Requirement already satisfied: tqdm in /usr/local/lib/python3.7/dist-packages (from lazypredict) (4.64.1)\n",
            "Requirement already satisfied: xgboost in /usr/local/lib/python3.7/dist-packages (from lazypredict) (0.90)\n",
            "Requirement already satisfied: joblib in /usr/local/lib/python3.7/dist-packages (from lazypredict) (1.2.0)\n",
            "Requirement already satisfied: click in /usr/local/lib/python3.7/dist-packages (from lazypredict) (7.1.2)\n",
            "Requirement already satisfied: lightgbm in /usr/local/lib/python3.7/dist-packages (from lazypredict) (2.2.3)\n",
            "Requirement already satisfied: scipy in /usr/local/lib/python3.7/dist-packages (from lightgbm->lazypredict) (1.7.3)\n",
            "Requirement already satisfied: numpy in /usr/local/lib/python3.7/dist-packages (from lightgbm->lazypredict) (1.21.6)\n",
            "Requirement already satisfied: pytz>=2017.3 in /usr/local/lib/python3.7/dist-packages (from pandas->lazypredict) (2022.6)\n",
            "Requirement already satisfied: python-dateutil>=2.7.3 in /usr/local/lib/python3.7/dist-packages (from pandas->lazypredict) (2.8.2)\n",
            "Requirement already satisfied: six>=1.5 in /usr/local/lib/python3.7/dist-packages (from python-dateutil>=2.7.3->pandas->lazypredict) (1.15.0)\n",
            "Requirement already satisfied: threadpoolctl>=2.0.0 in /usr/local/lib/python3.7/dist-packages (from scikit-learn->lazypredict) (3.1.0)\n",
            "Installing collected packages: lazypredict\n",
            "Successfully installed lazypredict-0.2.12\n"
          ]
        }
      ]
    },
    {
      "cell_type": "code",
      "source": [
        "import pandas as pd\n",
        "import numpy as np\n",
        "from numpy import argmax\n",
        "from sklearn.compose import ColumnTransformer\n",
        "from sklearn.pipeline import Pipeline\n",
        "from sklearn.preprocessing import OrdinalEncoder\n",
        "from sklearn.preprocessing import OneHotEncoder\n",
        "from sklearn.model_selection import train_test_split\n",
        "from sklearn.linear_model import LogisticRegressionCV, LogisticRegression\n",
        "from sklearn.ensemble import RandomForestClassifier, ExtraTreesClassifier\n",
        "from sklearn.svm import SVC, NuSVC\n",
        "from sklearn.metrics import accuracy_score, classification_report\n",
        "#from mlens.ensemble import SuperLearner\n",
        "#import lazypredict\n",
        "from lazypredict.Supervised import LazyClassifier\n",
        "#import sys\n",
        "\n",
        "#from mlens.model_selection import Evaluator\n",
        "from scipy.stats import randint\n",
        "from sklearn.naive_bayes import GaussianNB\n",
        "from sklearn.neighbors import KNeighborsClassifier\n",
        "\n",
        "from sklearn.model_selection import GridSearchCV\n",
        "from sklearn.model_selection import RepeatedStratifiedKFold\n",
        "from xgboost import XGBRegressor"
      ],
      "metadata": {
        "id": "86F8CNDt06rC"
      },
      "execution_count": null,
      "outputs": []
    },
    {
      "cell_type": "code",
      "source": [
        "d1 = '/content/drive/MyDrive/Datasets/data_cart.csv'\n",
        "d2 = '/content/drive/MyDrive/Datasets/data_pmm.csv'\n",
        "d3 = '/content/drive/MyDrive/Datasets/data_rf.csv'\n",
        "d4 = '/content/drive/MyDrive/Datasets/data_rsam.csv'"
      ],
      "metadata": {
        "id": "SxsS90Em06mA"
      },
      "execution_count": null,
      "outputs": []
    },
    {
      "cell_type": "code",
      "source": [
        "#data = d1\n",
        "#data = d2\n",
        "#data = d3\n",
        "data = d4"
      ],
      "metadata": {
        "id": "gBcjpk4q5QzL"
      },
      "execution_count": null,
      "outputs": []
    },
    {
      "cell_type": "code",
      "source": [
        "df = pd.read_csv(str(data))\n",
        "\n",
        "\n",
        "df_arr = df.values\n",
        "\n",
        "X= df_arr[:, :-1].astype(str)\n",
        "y= df_arr[:,-1].astype(str)\n",
        "  \n",
        "seed = 24\n",
        "# using the train test split function\n",
        "X_train, X_test, y_train, y_test = train_test_split(X,y ,\n",
        "                                    random_state=seed, \n",
        "                                  test_size=0.2,\n",
        "                                    stratify=y,\n",
        "                                    shuffle=True)\n",
        "\n",
        "\n",
        "# define the data preparation for the columns\n",
        "t = [('cat', OneHotEncoder(sparse=False), [0,1,2,5,7,9,12,14]), ('ord', OrdinalEncoder(), [3,4,6,8,11,13,15,16,17,18,19])]\n",
        "col_transform = ColumnTransformer(transformers=t, remainder='passthrough')\n",
        "# define the model\n",
        "\n",
        "X_train = col_transform.fit_transform(X_train)\n",
        "X_test = col_transform.fit_transform(X_test)"
      ],
      "metadata": {
        "id": "Gt5idkul06oX"
      },
      "execution_count": null,
      "outputs": []
    },
    {
      "cell_type": "code",
      "source": [
        "#y_test1 = y_test\n",
        "#y_test2 = y_test\n",
        "#y_test3 = y_test\n",
        "y_test4 = y_test"
      ],
      "metadata": {
        "id": "Lts_OnN788D0"
      },
      "execution_count": null,
      "outputs": []
    },
    {
      "cell_type": "code",
      "source": [
        "y_test1"
      ],
      "metadata": {
        "id": "5mtWgZf49NVh"
      },
      "execution_count": null,
      "outputs": []
    },
    {
      "cell_type": "code",
      "source": [
        "clf = LazyClassifier(verbose=0,ignore_warnings =True, custom_metric = None, predictions = True)\n",
        "models1, predictions1 = clf.fit(X_train, X_test, y_train, y_test)\n",
        "print(models1)"
      ],
      "metadata": {
        "colab": {
          "base_uri": "https://localhost:8080/"
        },
        "id": "e2ussFX335A5",
        "outputId": "b74e794f-86b0-48c2-fd58-3e4cf2514062"
      },
      "execution_count": null,
      "outputs": [
        {
          "output_type": "stream",
          "name": "stderr",
          "text": [
            "100%|██████████| 29/29 [01:58<00:00,  4.09s/it]"
          ]
        },
        {
          "output_type": "stream",
          "name": "stdout",
          "text": [
            "                               Accuracy  Balanced Accuracy  ROC AUC  F1 Score  \\\n",
            "Model                                                                           \n",
            "ExtraTreesClassifier               0.77               0.76     0.76      0.77   \n",
            "NuSVC                              0.77               0.76     0.76      0.76   \n",
            "RandomForestClassifier             0.76               0.75     0.75      0.76   \n",
            "LGBMClassifier                     0.76               0.75     0.75      0.76   \n",
            "BaggingClassifier                  0.74               0.73     0.73      0.74   \n",
            "SVC                                0.73               0.72     0.72      0.73   \n",
            "XGBClassifier                      0.72               0.71     0.71      0.72   \n",
            "DecisionTreeClassifier             0.69               0.69     0.69      0.69   \n",
            "KNeighborsClassifier               0.69               0.68     0.68      0.68   \n",
            "RidgeClassifier                    0.68               0.67     0.67      0.68   \n",
            "RidgeClassifierCV                  0.68               0.67     0.67      0.68   \n",
            "LogisticRegression                 0.68               0.67     0.67      0.68   \n",
            "LinearDiscriminantAnalysis         0.68               0.67     0.67      0.68   \n",
            "LinearSVC                          0.68               0.67     0.67      0.68   \n",
            "CalibratedClassifierCV             0.68               0.67     0.67      0.68   \n",
            "AdaBoostClassifier                 0.68               0.67     0.67      0.67   \n",
            "CategoricalNB                      0.67               0.66     0.66      0.67   \n",
            "BernoulliNB                        0.67               0.66     0.66      0.67   \n",
            "ExtraTreeClassifier                0.66               0.65     0.65      0.66   \n",
            "SGDClassifier                      0.66               0.65     0.65      0.66   \n",
            "NearestCentroid                    0.64               0.64     0.64      0.64   \n",
            "GaussianNB                         0.63               0.63     0.63      0.63   \n",
            "PassiveAggressiveClassifier        0.61               0.58     0.58      0.58   \n",
            "QuadraticDiscriminantAnalysis      0.57               0.53     0.53      0.52   \n",
            "Perceptron                         0.58               0.51     0.51      0.45   \n",
            "DummyClassifier                    0.57               0.50     0.50      0.41   \n",
            "\n",
            "                               Time Taken  \n",
            "Model                                      \n",
            "ExtraTreesClassifier                 4.60  \n",
            "NuSVC                               26.30  \n",
            "RandomForestClassifier               2.60  \n",
            "LGBMClassifier                       1.47  \n",
            "BaggingClassifier                    2.46  \n",
            "SVC                                 19.43  \n",
            "XGBClassifier                        4.31  \n",
            "DecisionTreeClassifier               1.54  \n",
            "KNeighborsClassifier                 1.57  \n",
            "RidgeClassifier                      0.80  \n",
            "RidgeClassifierCV                    1.15  \n",
            "LogisticRegression                   1.19  \n",
            "LinearDiscriminantAnalysis           1.23  \n",
            "LinearSVC                            4.92  \n",
            "CalibratedClassifierCV              16.84  \n",
            "AdaBoostClassifier                   2.92  \n",
            "CategoricalNB                        1.28  \n",
            "BernoulliNB                          0.88  \n",
            "ExtraTreeClassifier                  0.90  \n",
            "SGDClassifier                        1.51  \n",
            "NearestCentroid                      0.79  \n",
            "GaussianNB                           0.89  \n",
            "PassiveAggressiveClassifier          0.77  \n",
            "QuadraticDiscriminantAnalysis        1.03  \n",
            "Perceptron                           0.88  \n",
            "DummyClassifier                      1.94  \n"
          ]
        },
        {
          "output_type": "stream",
          "name": "stderr",
          "text": [
            "\n"
          ]
        }
      ]
    },
    {
      "cell_type": "code",
      "source": [
        "data = d2"
      ],
      "metadata": {
        "id": "zxUzFg3b5yea"
      },
      "execution_count": null,
      "outputs": []
    },
    {
      "cell_type": "code",
      "source": [
        "clf = LazyClassifier(verbose=0,ignore_warnings =True, custom_metric = None, predictions = True)\n",
        "models2, predictions2 = clf.fit(X_train, X_test, y_train, y_test)\n",
        "print(models2)"
      ],
      "metadata": {
        "colab": {
          "base_uri": "https://localhost:8080/"
        },
        "id": "NeBH4lEC343S",
        "outputId": "d51f2f9d-c431-48a8-a713-72d08f437ca9"
      },
      "execution_count": null,
      "outputs": [
        {
          "output_type": "stream",
          "name": "stderr",
          "text": [
            "100%|██████████| 29/29 [01:59<00:00,  4.12s/it]"
          ]
        },
        {
          "output_type": "stream",
          "name": "stdout",
          "text": [
            "                               Accuracy  Balanced Accuracy  ROC AUC  F1 Score  \\\n",
            "Model                                                                           \n",
            "NuSVC                              0.77               0.76     0.76      0.77   \n",
            "RandomForestClassifier             0.76               0.75     0.75      0.76   \n",
            "ExtraTreesClassifier               0.76               0.75     0.75      0.76   \n",
            "LGBMClassifier                     0.76               0.75     0.75      0.76   \n",
            "BaggingClassifier                  0.74               0.73     0.73      0.74   \n",
            "SVC                                0.73               0.72     0.72      0.73   \n",
            "XGBClassifier                      0.72               0.70     0.70      0.71   \n",
            "DecisionTreeClassifier             0.69               0.68     0.68      0.69   \n",
            "KNeighborsClassifier               0.69               0.68     0.68      0.69   \n",
            "LinearDiscriminantAnalysis         0.68               0.67     0.67      0.68   \n",
            "RidgeClassifierCV                  0.68               0.67     0.67      0.68   \n",
            "LinearSVC                          0.68               0.67     0.67      0.68   \n",
            "RidgeClassifier                    0.68               0.67     0.67      0.68   \n",
            "LogisticRegression                 0.68               0.67     0.67      0.68   \n",
            "CalibratedClassifierCV             0.68               0.67     0.67      0.68   \n",
            "AdaBoostClassifier                 0.68               0.67     0.67      0.68   \n",
            "SGDClassifier                      0.64               0.66     0.66      0.64   \n",
            "ExtraTreeClassifier                0.66               0.66     0.66      0.66   \n",
            "CategoricalNB                      0.66               0.65     0.65      0.66   \n",
            "BernoulliNB                        0.66               0.65     0.65      0.66   \n",
            "NearestCentroid                    0.64               0.64     0.64      0.64   \n",
            "GaussianNB                         0.64               0.64     0.64      0.64   \n",
            "Perceptron                         0.64               0.61     0.61      0.62   \n",
            "PassiveAggressiveClassifier        0.62               0.60     0.60      0.61   \n",
            "QuadraticDiscriminantAnalysis      0.49               0.51     0.51      0.49   \n",
            "DummyClassifier                    0.57               0.50     0.50      0.41   \n",
            "\n",
            "                               Time Taken  \n",
            "Model                                      \n",
            "NuSVC                               27.56  \n",
            "RandomForestClassifier               2.63  \n",
            "ExtraTreesClassifier                 3.59  \n",
            "LGBMClassifier                       1.43  \n",
            "BaggingClassifier                    2.28  \n",
            "SVC                                 20.01  \n",
            "XGBClassifier                        4.28  \n",
            "DecisionTreeClassifier               0.96  \n",
            "KNeighborsClassifier                 1.65  \n",
            "LinearDiscriminantAnalysis           1.27  \n",
            "RidgeClassifierCV                    1.14  \n",
            "LinearSVC                            5.13  \n",
            "RidgeClassifier                      0.90  \n",
            "LogisticRegression                   1.33  \n",
            "CalibratedClassifierCV              18.07  \n",
            "AdaBoostClassifier                   2.61  \n",
            "SGDClassifier                        1.77  \n",
            "ExtraTreeClassifier                  0.82  \n",
            "CategoricalNB                        0.91  \n",
            "BernoulliNB                          0.87  \n",
            "NearestCentroid                      0.84  \n",
            "GaussianNB                           0.85  \n",
            "Perceptron                           0.81  \n",
            "PassiveAggressiveClassifier          0.81  \n",
            "QuadraticDiscriminantAnalysis        1.05  \n",
            "DummyClassifier                      0.73  \n"
          ]
        },
        {
          "output_type": "stream",
          "name": "stderr",
          "text": [
            "\n"
          ]
        }
      ]
    },
    {
      "cell_type": "code",
      "source": [
        "data = d3"
      ],
      "metadata": {
        "id": "sPM2rSFS5zFM"
      },
      "execution_count": null,
      "outputs": []
    },
    {
      "cell_type": "code",
      "source": [
        "clf = LazyClassifier(verbose=0,ignore_warnings =True, custom_metric = None, predictions = True)\n",
        "models3, predictions3 = clf.fit(X_train, X_test, y_train, y_test)\n",
        "print(models3)"
      ],
      "metadata": {
        "colab": {
          "base_uri": "https://localhost:8080/"
        },
        "id": "CqPE0eFs5IBL",
        "outputId": "99980d1f-070d-46fd-cbfc-0418d2184c4f"
      },
      "execution_count": null,
      "outputs": [
        {
          "output_type": "stream",
          "name": "stderr",
          "text": [
            "100%|██████████| 29/29 [02:02<00:00,  4.22s/it]"
          ]
        },
        {
          "output_type": "stream",
          "name": "stdout",
          "text": [
            "                               Accuracy  Balanced Accuracy  ROC AUC  F1 Score  \\\n",
            "Model                                                                           \n",
            "LGBMClassifier                     0.76               0.74     0.74      0.75   \n",
            "NuSVC                              0.75               0.74     0.74      0.75   \n",
            "RandomForestClassifier             0.75               0.74     0.74      0.75   \n",
            "ExtraTreesClassifier               0.74               0.74     0.74      0.74   \n",
            "BaggingClassifier                  0.73               0.72     0.72      0.73   \n",
            "SVC                                0.73               0.72     0.72      0.73   \n",
            "XGBClassifier                      0.72               0.71     0.71      0.72   \n",
            "DecisionTreeClassifier             0.69               0.68     0.68      0.68   \n",
            "KNeighborsClassifier               0.69               0.67     0.67      0.68   \n",
            "LinearSVC                          0.68               0.67     0.67      0.68   \n",
            "LinearDiscriminantAnalysis         0.68               0.67     0.67      0.68   \n",
            "LogisticRegression                 0.68               0.67     0.67      0.68   \n",
            "RidgeClassifier                    0.68               0.67     0.67      0.68   \n",
            "RidgeClassifierCV                  0.68               0.67     0.67      0.68   \n",
            "CalibratedClassifierCV             0.68               0.67     0.67      0.68   \n",
            "AdaBoostClassifier                 0.68               0.67     0.67      0.68   \n",
            "SGDClassifier                      0.65               0.66     0.66      0.64   \n",
            "CategoricalNB                      0.66               0.65     0.65      0.66   \n",
            "BernoulliNB                        0.66               0.65     0.65      0.66   \n",
            "ExtraTreeClassifier                0.66               0.65     0.65      0.66   \n",
            "NearestCentroid                    0.64               0.64     0.64      0.64   \n",
            "GaussianNB                         0.63               0.64     0.64      0.64   \n",
            "Perceptron                         0.63               0.63     0.63      0.63   \n",
            "PassiveAggressiveClassifier        0.62               0.59     0.59      0.60   \n",
            "QuadraticDiscriminantAnalysis      0.55               0.56     0.56      0.55   \n",
            "DummyClassifier                    0.57               0.50     0.50      0.41   \n",
            "\n",
            "                               Time Taken  \n",
            "Model                                      \n",
            "LGBMClassifier                       1.41  \n",
            "NuSVC                               30.39  \n",
            "RandomForestClassifier               2.69  \n",
            "ExtraTreesClassifier                 3.34  \n",
            "BaggingClassifier                    2.33  \n",
            "SVC                                 21.68  \n",
            "XGBClassifier                        4.32  \n",
            "DecisionTreeClassifier               0.93  \n",
            "KNeighborsClassifier                 1.63  \n",
            "LinearSVC                            5.90  \n",
            "LinearDiscriminantAnalysis           1.22  \n",
            "LogisticRegression                   1.27  \n",
            "RidgeClassifier                      0.86  \n",
            "RidgeClassifierCV                    1.18  \n",
            "CalibratedClassifierCV              17.89  \n",
            "AdaBoostClassifier                   2.50  \n",
            "SGDClassifier                        1.69  \n",
            "CategoricalNB                        0.86  \n",
            "BernoulliNB                          0.92  \n",
            "ExtraTreeClassifier                  0.80  \n",
            "NearestCentroid                      0.76  \n",
            "GaussianNB                           0.74  \n",
            "Perceptron                           0.87  \n",
            "PassiveAggressiveClassifier          0.85  \n",
            "QuadraticDiscriminantAnalysis        1.23  \n",
            "DummyClassifier                      0.71  \n"
          ]
        },
        {
          "output_type": "stream",
          "name": "stderr",
          "text": [
            "\n"
          ]
        }
      ]
    },
    {
      "cell_type": "code",
      "source": [
        "data = d4"
      ],
      "metadata": {
        "id": "o3hhVGEE5zpu"
      },
      "execution_count": null,
      "outputs": []
    },
    {
      "cell_type": "code",
      "source": [
        "clf = LazyClassifier(verbose=0,ignore_warnings =True, custom_metric = None, predictions = True)\n",
        "models4, predictions4 = clf.fit(X_train, X_test, y_train, y_test)\n",
        "print(models4)"
      ],
      "metadata": {
        "colab": {
          "base_uri": "https://localhost:8080/"
        },
        "id": "_Tm_9dxh5H57",
        "outputId": "637f0733-9bb6-4afd-a6d9-478162ceeb6b"
      },
      "execution_count": null,
      "outputs": [
        {
          "output_type": "stream",
          "name": "stderr",
          "text": [
            "100%|██████████| 29/29 [01:55<00:00,  3.98s/it]"
          ]
        },
        {
          "output_type": "stream",
          "name": "stdout",
          "text": [
            "                               Accuracy  Balanced Accuracy  ROC AUC  F1 Score  \\\n",
            "Model                                                                           \n",
            "ExtraTreesClassifier               0.76               0.75     0.75      0.76   \n",
            "RandomForestClassifier             0.76               0.75     0.75      0.76   \n",
            "LGBMClassifier                     0.75               0.74     0.74      0.75   \n",
            "NuSVC                              0.75               0.74     0.74      0.74   \n",
            "BaggingClassifier                  0.73               0.72     0.72      0.73   \n",
            "SVC                                0.73               0.72     0.72      0.73   \n",
            "XGBClassifier                      0.72               0.70     0.70      0.71   \n",
            "LogisticRegression                 0.69               0.67     0.67      0.68   \n",
            "CalibratedClassifierCV             0.69               0.67     0.67      0.68   \n",
            "RidgeClassifierCV                  0.68               0.67     0.67      0.68   \n",
            "LinearSVC                          0.68               0.67     0.67      0.68   \n",
            "RidgeClassifier                    0.68               0.67     0.67      0.68   \n",
            "DecisionTreeClassifier             0.68               0.67     0.67      0.68   \n",
            "LinearDiscriminantAnalysis         0.68               0.67     0.67      0.68   \n",
            "KNeighborsClassifier               0.68               0.67     0.67      0.68   \n",
            "AdaBoostClassifier                 0.68               0.67     0.67      0.68   \n",
            "BernoulliNB                        0.65               0.65     0.65      0.65   \n",
            "CategoricalNB                      0.65               0.65     0.65      0.65   \n",
            "NearestCentroid                    0.64               0.64     0.64      0.64   \n",
            "GaussianNB                         0.63               0.64     0.64      0.64   \n",
            "ExtraTreeClassifier                0.64               0.64     0.64      0.64   \n",
            "SGDClassifier                      0.65               0.61     0.61      0.61   \n",
            "PassiveAggressiveClassifier        0.60               0.55     0.55      0.54   \n",
            "Perceptron                         0.58               0.52     0.52      0.45   \n",
            "QuadraticDiscriminantAnalysis      0.49               0.50     0.50      0.49   \n",
            "DummyClassifier                    0.57               0.50     0.50      0.41   \n",
            "\n",
            "                               Time Taken  \n",
            "Model                                      \n",
            "ExtraTreesClassifier                 3.46  \n",
            "RandomForestClassifier               2.69  \n",
            "LGBMClassifier                       1.37  \n",
            "NuSVC                               26.50  \n",
            "BaggingClassifier                    2.29  \n",
            "SVC                                 19.79  \n",
            "XGBClassifier                        4.36  \n",
            "LogisticRegression                   1.24  \n",
            "CalibratedClassifierCV              16.21  \n",
            "RidgeClassifierCV                    1.04  \n",
            "LinearSVC                            5.79  \n",
            "RidgeClassifier                      0.82  \n",
            "DecisionTreeClassifier               0.91  \n",
            "LinearDiscriminantAnalysis           1.14  \n",
            "KNeighborsClassifier                 2.00  \n",
            "AdaBoostClassifier                   2.48  \n",
            "BernoulliNB                          0.93  \n",
            "CategoricalNB                        0.89  \n",
            "NearestCentroid                      0.78  \n",
            "GaussianNB                           0.73  \n",
            "ExtraTreeClassifier                  0.94  \n",
            "SGDClassifier                        1.74  \n",
            "PassiveAggressiveClassifier          0.88  \n",
            "Perceptron                           0.79  \n",
            "QuadraticDiscriminantAnalysis        1.04  \n",
            "DummyClassifier                      0.83  \n"
          ]
        },
        {
          "output_type": "stream",
          "name": "stderr",
          "text": [
            "\n"
          ]
        }
      ]
    },
    {
      "cell_type": "code",
      "source": [
        "predictions1[\"ExtraTreesClassifier\"]"
      ],
      "metadata": {
        "id": "pQObDIxz06ja"
      },
      "execution_count": null,
      "outputs": []
    },
    {
      "cell_type": "code",
      "source": [
        "lazy_classifier(d1)"
      ],
      "metadata": {
        "id": "aWjyfz2g06gz"
      },
      "execution_count": null,
      "outputs": []
    },
    {
      "cell_type": "code",
      "source": [
        "y_pred1 = np.array(predictions1[\"ExtraTreesClassifier\"])\n",
        "y_pred2 = np.array(predictions1[\"NuSVC\"])\n",
        "\n",
        "\n",
        "accuracy1 = accuracy_score(y_test1, y_pred1)\n",
        "class_report = classification_report(y_test1,y_pred1, labels = [0,1])\n",
        "print(\"Accuracy is \", accuracy1)\n",
        "print(class_report)\n",
        "print(' ')\n",
        "accuracy2 = accuracy_score(y_test1, y_pred2)\n",
        "class_report = classification_report(y_test1,y_pred2, labels = [0,1])\n",
        "print(\"Accuracy is \", accuracy2)\n",
        "print(class_report)"
      ],
      "metadata": {
        "colab": {
          "base_uri": "https://localhost:8080/"
        },
        "id": "QGkOdjzR06eN",
        "outputId": "8e03e91e-d6be-4769-b1c5-2a203ac7c06c"
      },
      "execution_count": null,
      "outputs": [
        {
          "output_type": "stream",
          "name": "stdout",
          "text": [
            "Accuracy is  0.7674418604651163\n",
            "              precision    recall  f1-score   support\n",
            "\n",
            "           0       0.75      0.69      0.72      1095\n",
            "           1       0.78      0.83      0.80      1442\n",
            "\n",
            "   micro avg       0.77      0.77      0.77      2537\n",
            "   macro avg       0.76      0.76      0.76      2537\n",
            "weighted avg       0.77      0.77      0.77      2537\n",
            "\n",
            " \n",
            "Accuracy is  0.7658651951123374\n",
            "              precision    recall  f1-score   support\n",
            "\n",
            "           0       0.75      0.68      0.71      1095\n",
            "           1       0.77      0.83      0.80      1442\n",
            "\n",
            "   micro avg       0.77      0.77      0.77      2537\n",
            "   macro avg       0.76      0.76      0.76      2537\n",
            "weighted avg       0.77      0.77      0.76      2537\n",
            "\n"
          ]
        }
      ]
    },
    {
      "cell_type": "code",
      "source": [
        "y_pred1 = np.array(predictions2[\"NuSVC\"])\n",
        "y_pred2 = np.array(predictions2[\"RandomForestClassifier\"])\n",
        "\n",
        "\n",
        "accuracy1 = accuracy_score(y_test2, y_pred1)\n",
        "class_report = classification_report(y_test2,y_pred1, labels = [0,1])\n",
        "print(\"Accuracy is \", accuracy1)\n",
        "print(class_report)\n",
        "print(' ')\n",
        "accuracy2 = accuracy_score(y_test2, y_pred2)\n",
        "class_report = classification_report(y_test2,y_pred2, labels = [0,1])\n",
        "print(\"Accuracy is \", accuracy2)\n",
        "print(class_report)"
      ],
      "metadata": {
        "colab": {
          "base_uri": "https://localhost:8080/"
        },
        "id": "K0WvQ8EW06bW",
        "outputId": "ae53e6f9-0978-4eb1-8d77-e1d37f1d1209"
      },
      "execution_count": null,
      "outputs": [
        {
          "output_type": "stream",
          "name": "stdout",
          "text": [
            "Accuracy is  0.7694126921560899\n",
            "              precision    recall  f1-score   support\n",
            "\n",
            "           0       0.76      0.69      0.72      1095\n",
            "           1       0.78      0.83      0.80      1442\n",
            "\n",
            "   micro avg       0.77      0.77      0.77      2537\n",
            "   macro avg       0.77      0.76      0.76      2537\n",
            "weighted avg       0.77      0.77      0.77      2537\n",
            "\n",
            " \n",
            "Accuracy is  0.762317698068585\n",
            "              precision    recall  f1-score   support\n",
            "\n",
            "           0       0.74      0.68      0.71      1095\n",
            "           1       0.77      0.82      0.80      1442\n",
            "\n",
            "   micro avg       0.76      0.76      0.76      2537\n",
            "   macro avg       0.76      0.75      0.76      2537\n",
            "weighted avg       0.76      0.76      0.76      2537\n",
            "\n"
          ]
        }
      ]
    },
    {
      "cell_type": "code",
      "source": [
        "y_pred1 = np.array(predictions3[\"LGBMClassifier\"])\n",
        "y_pred2 = np.array(predictions3[\"NuSVC\"])\n",
        "\n",
        "\n",
        "accuracy1 = accuracy_score(y_test3, y_pred1)\n",
        "class_report = classification_report(y_test3,y_pred1, labels = [0,1])\n",
        "print(\"Accuracy is \", accuracy1)\n",
        "print(class_report)\n",
        "print(' ')\n",
        "accuracy2 = accuracy_score(y_test3, y_pred2)\n",
        "class_report = classification_report(y_test3,y_pred2, labels = [0,1])\n",
        "print(\"Accuracy is \", accuracy2)\n",
        "print(class_report)"
      ],
      "metadata": {
        "colab": {
          "base_uri": "https://localhost:8080/"
        },
        "id": "OQkhz32U06Wr",
        "outputId": "f05455a6-de0b-4b4e-f01c-cbfa581f1969"
      },
      "execution_count": null,
      "outputs": [
        {
          "output_type": "stream",
          "name": "stdout",
          "text": [
            "Accuracy is  0.7564052029956642\n",
            "              precision    recall  f1-score   support\n",
            "\n",
            "           0       0.75      0.65      0.70      1095\n",
            "           1       0.76      0.84      0.80      1442\n",
            "\n",
            "   micro avg       0.76      0.76      0.76      2537\n",
            "   macro avg       0.76      0.74      0.75      2537\n",
            "weighted avg       0.76      0.76      0.75      2537\n",
            "\n",
            " \n",
            "Accuracy is  0.7520693732755223\n",
            "              precision    recall  f1-score   support\n",
            "\n",
            "           0       0.73      0.68      0.70      1095\n",
            "           1       0.77      0.81      0.79      1442\n",
            "\n",
            "   micro avg       0.75      0.75      0.75      2537\n",
            "   macro avg       0.75      0.74      0.75      2537\n",
            "weighted avg       0.75      0.75      0.75      2537\n",
            "\n"
          ]
        }
      ]
    },
    {
      "cell_type": "code",
      "source": [
        "y_pred1 = np.array(predictions4[\"ExtraTreesClassifier\"])\n",
        "y_pred2 = np.array(predictions4[\"RandomForestClassifier\"])\n",
        "\n",
        "\n",
        "accuracy1 = accuracy_score(y_test4, y_pred1)\n",
        "class_report = classification_report(y_test4,y_pred1, labels = [0,1])\n",
        "print(\"Accuracy is \", accuracy1)\n",
        "print(class_report)\n",
        "print(' ')\n",
        "accuracy2 = accuracy_score(y_test4, y_pred2)\n",
        "class_report = classification_report(y_test4,y_pred2, labels = [0,1])\n",
        "print(\"Accuracy is \", accuracy2)\n",
        "print(class_report)"
      ],
      "metadata": {
        "colab": {
          "base_uri": "https://localhost:8080/"
        },
        "id": "Im7f8a5u-3Mn",
        "outputId": "eaf7e39e-d73b-4519-874b-3359ea710bd3"
      },
      "execution_count": null,
      "outputs": [
        {
          "output_type": "stream",
          "name": "stdout",
          "text": [
            "Accuracy is  0.7635001970831691\n",
            "              precision    recall  f1-score   support\n",
            "\n",
            "           0       0.75      0.68      0.71      1095\n",
            "           1       0.77      0.83      0.80      1442\n",
            "\n",
            "   micro avg       0.76      0.76      0.76      2537\n",
            "   macro avg       0.76      0.75      0.76      2537\n",
            "weighted avg       0.76      0.76      0.76      2537\n",
            "\n",
            " \n",
            "Accuracy is  0.759558533701222\n",
            "              precision    recall  f1-score   support\n",
            "\n",
            "           0       0.75      0.67      0.71      1095\n",
            "           1       0.77      0.83      0.80      1442\n",
            "\n",
            "   micro avg       0.76      0.76      0.76      2537\n",
            "   macro avg       0.76      0.75      0.75      2537\n",
            "weighted avg       0.76      0.76      0.76      2537\n",
            "\n"
          ]
        }
      ]
    },
    {
      "cell_type": "code",
      "source": [
        "from sklearn import metrics\n",
        "fpr, tpr, thresholds = metrics.roc_curve(y_test1,y_pred1, pos_label=2)\n",
        ">>> metrics.auc(fpr, tpr)"
      ],
      "metadata": {
        "id": "1eHfxl74DmIg"
      },
      "execution_count": null,
      "outputs": []
    },
    {
      "cell_type": "code",
      "source": [],
      "metadata": {
        "id": "tQjDd98LDmS2"
      },
      "execution_count": null,
      "outputs": []
    },
    {
      "cell_type": "code",
      "source": [],
      "metadata": {
        "id": "rWG8G6QFDmXf"
      },
      "execution_count": null,
      "outputs": []
    },
    {
      "cell_type": "code",
      "source": [],
      "metadata": {
        "id": "NYmzAyovDmaG"
      },
      "execution_count": null,
      "outputs": []
    },
    {
      "cell_type": "code",
      "source": [],
      "metadata": {
        "id": "QHoWGEcrDmct"
      },
      "execution_count": null,
      "outputs": []
    }
  ]
}